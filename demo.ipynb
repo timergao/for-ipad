{
 "cells": [
  {
   "cell_type": "code",
   "execution_count": null,
   "id": "2a1a181e-043d-4a66-83f8-f7addee6bee7",
   "metadata": {},
   "outputs": [],
   "source": [
    "demo"
   ]
  }
 ],
 "metadata": {
  "kernelspec": {
   "display_name": "Python [conda env:base] *",
   "language": "python",
   "name": "conda-base-py"
  },
  "language_info": {
   "codemirror_mode": {
    "name": "ipython",
    "version": 3
   },
   "file_extension": ".py",
   "mimetype": "text/x-python",
   "name": "python",
   "nbconvert_exporter": "python",
   "pygments_lexer": "ipython3",
   "version": "3.12.7"
  }
 },
 "nbformat": 4,
 "nbformat_minor": 5
}
